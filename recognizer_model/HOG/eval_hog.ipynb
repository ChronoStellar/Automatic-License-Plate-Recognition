{
  "nbformat": 4,
  "nbformat_minor": 0,
  "metadata": {
    "colab": {
      "provenance": []
    },
    "kernelspec": {
      "name": "python3",
      "display_name": "Python 3"
    },
    "language_info": {
      "name": "python"
    }
  },
  "cells": [
    {
      "cell_type": "code",
      "source": [
        "!pip install evaluate jiwer"
      ],
      "metadata": {
        "colab": {
          "base_uri": "https://localhost:8080/"
        },
        "id": "8aomFKOCWi7r",
        "outputId": "38ef2ca0-d8c6-49f9-a8e4-8080c801a178"
      },
      "execution_count": null,
      "outputs": [
        {
          "output_type": "stream",
          "name": "stdout",
          "text": [
            "Requirement already satisfied: evaluate in /usr/local/lib/python3.10/dist-packages (0.4.3)\n",
            "Collecting jiwer\n",
            "  Downloading jiwer-3.0.4-py3-none-any.whl.metadata (2.6 kB)\n",
            "Requirement already satisfied: datasets>=2.0.0 in /usr/local/lib/python3.10/dist-packages (from evaluate) (3.0.1)\n",
            "Requirement already satisfied: numpy>=1.17 in /usr/local/lib/python3.10/dist-packages (from evaluate) (1.26.4)\n",
            "Requirement already satisfied: dill in /usr/local/lib/python3.10/dist-packages (from evaluate) (0.3.8)\n",
            "Requirement already satisfied: pandas in /usr/local/lib/python3.10/dist-packages (from evaluate) (2.2.2)\n",
            "Requirement already satisfied: requests>=2.19.0 in /usr/local/lib/python3.10/dist-packages (from evaluate) (2.32.3)\n",
            "Requirement already satisfied: tqdm>=4.62.1 in /usr/local/lib/python3.10/dist-packages (from evaluate) (4.66.5)\n",
            "Requirement already satisfied: xxhash in /usr/local/lib/python3.10/dist-packages (from evaluate) (3.5.0)\n",
            "Requirement already satisfied: multiprocess in /usr/local/lib/python3.10/dist-packages (from evaluate) (0.70.16)\n",
            "Requirement already satisfied: fsspec>=2021.05.0 in /usr/local/lib/python3.10/dist-packages (from fsspec[http]>=2021.05.0->evaluate) (2024.6.1)\n",
            "Requirement already satisfied: huggingface-hub>=0.7.0 in /usr/local/lib/python3.10/dist-packages (from evaluate) (0.24.7)\n",
            "Requirement already satisfied: packaging in /usr/local/lib/python3.10/dist-packages (from evaluate) (24.1)\n",
            "Requirement already satisfied: click<9.0.0,>=8.1.3 in /usr/local/lib/python3.10/dist-packages (from jiwer) (8.1.7)\n",
            "Collecting rapidfuzz<4,>=3 (from jiwer)\n",
            "  Downloading rapidfuzz-3.10.0-cp310-cp310-manylinux_2_17_x86_64.manylinux2014_x86_64.whl.metadata (11 kB)\n",
            "Requirement already satisfied: filelock in /usr/local/lib/python3.10/dist-packages (from datasets>=2.0.0->evaluate) (3.16.1)\n",
            "Requirement already satisfied: pyarrow>=15.0.0 in /usr/local/lib/python3.10/dist-packages (from datasets>=2.0.0->evaluate) (16.1.0)\n",
            "Requirement already satisfied: aiohttp in /usr/local/lib/python3.10/dist-packages (from datasets>=2.0.0->evaluate) (3.10.10)\n",
            "Requirement already satisfied: pyyaml>=5.1 in /usr/local/lib/python3.10/dist-packages (from datasets>=2.0.0->evaluate) (6.0.2)\n",
            "Requirement already satisfied: typing-extensions>=3.7.4.3 in /usr/local/lib/python3.10/dist-packages (from huggingface-hub>=0.7.0->evaluate) (4.12.2)\n",
            "Requirement already satisfied: charset-normalizer<4,>=2 in /usr/local/lib/python3.10/dist-packages (from requests>=2.19.0->evaluate) (3.4.0)\n",
            "Requirement already satisfied: idna<4,>=2.5 in /usr/local/lib/python3.10/dist-packages (from requests>=2.19.0->evaluate) (3.10)\n",
            "Requirement already satisfied: urllib3<3,>=1.21.1 in /usr/local/lib/python3.10/dist-packages (from requests>=2.19.0->evaluate) (2.2.3)\n",
            "Requirement already satisfied: certifi>=2017.4.17 in /usr/local/lib/python3.10/dist-packages (from requests>=2.19.0->evaluate) (2024.8.30)\n",
            "Requirement already satisfied: python-dateutil>=2.8.2 in /usr/local/lib/python3.10/dist-packages (from pandas->evaluate) (2.8.2)\n",
            "Requirement already satisfied: pytz>=2020.1 in /usr/local/lib/python3.10/dist-packages (from pandas->evaluate) (2024.2)\n",
            "Requirement already satisfied: tzdata>=2022.7 in /usr/local/lib/python3.10/dist-packages (from pandas->evaluate) (2024.2)\n",
            "Requirement already satisfied: aiohappyeyeballs>=2.3.0 in /usr/local/lib/python3.10/dist-packages (from aiohttp->datasets>=2.0.0->evaluate) (2.4.3)\n",
            "Requirement already satisfied: aiosignal>=1.1.2 in /usr/local/lib/python3.10/dist-packages (from aiohttp->datasets>=2.0.0->evaluate) (1.3.1)\n",
            "Requirement already satisfied: attrs>=17.3.0 in /usr/local/lib/python3.10/dist-packages (from aiohttp->datasets>=2.0.0->evaluate) (24.2.0)\n",
            "Requirement already satisfied: frozenlist>=1.1.1 in /usr/local/lib/python3.10/dist-packages (from aiohttp->datasets>=2.0.0->evaluate) (1.4.1)\n",
            "Requirement already satisfied: multidict<7.0,>=4.5 in /usr/local/lib/python3.10/dist-packages (from aiohttp->datasets>=2.0.0->evaluate) (6.1.0)\n",
            "Requirement already satisfied: yarl<2.0,>=1.12.0 in /usr/local/lib/python3.10/dist-packages (from aiohttp->datasets>=2.0.0->evaluate) (1.15.2)\n",
            "Requirement already satisfied: async-timeout<5.0,>=4.0 in /usr/local/lib/python3.10/dist-packages (from aiohttp->datasets>=2.0.0->evaluate) (4.0.3)\n",
            "Requirement already satisfied: six>=1.5 in /usr/local/lib/python3.10/dist-packages (from python-dateutil>=2.8.2->pandas->evaluate) (1.16.0)\n",
            "Requirement already satisfied: propcache>=0.2.0 in /usr/local/lib/python3.10/dist-packages (from yarl<2.0,>=1.12.0->aiohttp->datasets>=2.0.0->evaluate) (0.2.0)\n",
            "Downloading jiwer-3.0.4-py3-none-any.whl (21 kB)\n",
            "Downloading rapidfuzz-3.10.0-cp310-cp310-manylinux_2_17_x86_64.manylinux2014_x86_64.whl (3.1 MB)\n",
            "\u001b[2K   \u001b[90m━━━━━━━━━━━━━━━━━━━━━━━━━━━━━━━━━━━━━━━━\u001b[0m \u001b[32m3.1/3.1 MB\u001b[0m \u001b[31m30.7 MB/s\u001b[0m eta \u001b[36m0:00:00\u001b[0m\n",
            "\u001b[?25hInstalling collected packages: rapidfuzz, jiwer\n",
            "Successfully installed jiwer-3.0.4 rapidfuzz-3.10.0\n"
          ]
        }
      ]
    },
    {
      "cell_type": "code",
      "execution_count": null,
      "metadata": {
        "colab": {
          "base_uri": "https://localhost:8080/"
        },
        "id": "1Qwkl4IqUuVh",
        "outputId": "311a585b-aba1-40d0-b220-f76b722e0536"
      },
      "outputs": [
        {
          "output_type": "stream",
          "name": "stdout",
          "text": [
            "Cloning into 'Automatic-License-Plate-Recognition'...\n",
            "remote: Enumerating objects: 437, done.\u001b[K\n",
            "remote: Counting objects: 100% (437/437), done.\u001b[K\n",
            "remote: Compressing objects: 100% (434/434), done.\u001b[K\n",
            "remote: Total 437 (delta 3), reused 422 (delta 0), pack-reused 0 (from 0)\u001b[K\n",
            "Receiving objects: 100% (437/437), 14.02 MiB | 15.89 MiB/s, done.\n",
            "Resolving deltas: 100% (3/3), done.\n"
          ]
        }
      ],
      "source": [
        "!git clone https://github.com/ChronoStellar/Automatic-License-Plate-Recognition"
      ]
    },
    {
      "cell_type": "code",
      "source": [
        "import os\n",
        "import evaluate\n",
        "import cv2\n",
        "from google.colab.patches import cv2_imshow\n",
        "import joblib\n",
        "from skimage.feature import hog\n",
        "import numpy as np"
      ],
      "metadata": {
        "id": "E515F_gpWhnj"
      },
      "execution_count": null,
      "outputs": []
    },
    {
      "cell_type": "code",
      "source": [
        "# Process Dataset\n",
        "PATH = '/content/Automatic-License-Plate-Recognition/dataset/test'\n",
        "images = []\n",
        "labels = []\n",
        "\n",
        "for filename in os.listdir(PATH):\n",
        "  if filename.lower().endswith('.jpeg'):\n",
        "    labels.append(filename[:-5])\n",
        "  else:\n",
        "    labels.append(filename[:-4])\n",
        "\n",
        "  images.append(os.path.join(PATH, filename))"
      ],
      "metadata": {
        "id": "ppgVZ9e6YSg4"
      },
      "execution_count": null,
      "outputs": []
    },
    {
      "cell_type": "code",
      "source": [
        "cer = evaluate.load('cer')\n",
        "wer = evaluate.load('wer')\n",
        "MODEL_PATH = '/content/drive/MyDrive/Projects/CompVis/FinalProject/OCR/HOG/hog_lreg_model_3.pkl'\n",
        "clf = joblib.load(MODEL_PATH)"
      ],
      "metadata": {
        "id": "dwE2jNlQXrgh"
      },
      "execution_count": null,
      "outputs": []
    },
    {
      "cell_type": "code",
      "source": [
        "def ocr(PATH):\n",
        "    im = cv2.imread(PATH)\n",
        "    im_gray = cv2.cvtColor(im, cv2.COLOR_BGR2GRAY)\n",
        "    ret, im_th = cv2.threshold(im_gray, 120, 255, cv2.THRESH_BINARY+cv2.THRESH_OTSU)\n",
        "    ctrs, hier = cv2.findContours(im_th, cv2.RETR_TREE, cv2.CHAIN_APPROX_SIMPLE)\n",
        "    bboxes = [cv2.boundingRect(c) for c in ctrs]\n",
        "    sorted_bboxes = sorted(bboxes, key=lambda b: b) # Sort by x-coordinate\n",
        "\n",
        "    plate_char = []\n",
        "    image_height, image_width = im.shape[:2]\n",
        "    height_threshold = image_height * 0.3\n",
        "    width_threshold = image_width * 0.3\n",
        "\n",
        "    for num, i_bboxes in enumerate(sorted_bboxes):\n",
        "        [x, y, w, h] = i_bboxes\n",
        "        if h > height_threshold and w < width_threshold:\n",
        "            cv2.rectangle(im, (x, y), (x + w, y + h), (0, 255, 0), 1)\n",
        "            roi = im_gray[y:y + h, x:x + w]\n",
        "            roi = cv2.resize(roi, (64, 128), interpolation=cv2.INTER_AREA)\n",
        "            roi_hog_fd = hog(roi, orientations=9, pixels_per_cell=(8, 8), cells_per_block=(1, 1))\n",
        "            nbr = clf.predict(np.array([roi_hog_fd]))\n",
        "            cv2.putText(im, str(nbr[0]), (x, y + h), cv2.FONT_HERSHEY_SIMPLEX, 2, (0, 200, 250), 3)\n",
        "            plate_char.append(str(nbr[0]))\n",
        "\n",
        "    return ''.join(plate_char)"
      ],
      "metadata": {
        "id": "HeiB1-hUZZ6n"
      },
      "execution_count": null,
      "outputs": []
    },
    {
      "cell_type": "code",
      "source": [
        "pred = []\n",
        "for i in range(len(images)):\n",
        "  pred.append(ocr(images[i]))"
      ],
      "metadata": {
        "id": "denfMQICav9M"
      },
      "execution_count": null,
      "outputs": []
    },
    {
      "cell_type": "code",
      "source": [
        "word_accuracy = wer.compute(references=labels, predictions=pred)\n",
        "character_accuracy = cer.compute(references=labels, predictions=pred)\n",
        "\n",
        "print(f'wer: {word_accuracy}, cer: {character_accuracy}')"
      ],
      "metadata": {
        "colab": {
          "base_uri": "https://localhost:8080/"
        },
        "id": "XGswfposbYvT",
        "outputId": "c83f5e3b-6814-4882-c88f-4ff2110da83e"
      },
      "execution_count": null,
      "outputs": [
        {
          "output_type": "stream",
          "name": "stdout",
          "text": [
            "wer: 0.9, cer: 0.28169014084507044\n"
          ]
        }
      ]
    },
    {
      "cell_type": "code",
      "source": [
        "for i,x in enumerate(zip(pred, labels)):\n",
        "  print(i,x)"
      ],
      "metadata": {
        "colab": {
          "base_uri": "https://localhost:8080/"
        },
        "id": "z9FHK82Wdlm-",
        "outputId": "ccf5430d-f8fe-4bf4-ee62-cec5954782cb"
      },
      "execution_count": null,
      "outputs": [
        {
          "output_type": "stream",
          "name": "stdout",
          "text": [
            "0 ('E5944TK', 'E5944TK')\n",
            "1 ('4594', 'E4594Q')\n",
            "2 ('B97363FK', 'B9736JFK')\n",
            "3 ('H624AC', 'H6240AKC')\n",
            "4 ('E3TO5OO', 'E5105OD')\n",
            "5 ('E453GOK', 'E4538QK')\n",
            "6 ('H314ONB', 'H3141NB')\n",
            "7 ('E2TT8ST', 'E2118ST')\n",
            "8 ('DB888TNRZ', 'B8837NR')\n",
            "9 ('E5O53RC', 'E5053RG')\n"
          ]
        }
      ]
    }
  ]
}