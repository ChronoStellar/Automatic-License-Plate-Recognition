{
  "cells": [
    {
      "cell_type": "code",
      "execution_count": null,
      "metadata": {
        "id": "E515F_gpWhnj"
      },
      "outputs": [],
      "source": [
        "import os\n",
        "import evaluate\n",
        "import cv2\n",
        "from google.colab.patches import cv2_imshow\n",
        "import joblib\n",
        "from skimage.feature import hog\n",
        "import numpy as np"
      ]
    },
    {
      "cell_type": "code",
      "execution_count": null,
      "metadata": {
        "id": "ppgVZ9e6YSg4"
      },
      "outputs": [],
      "source": [
        "# Process Dataset\n",
        "PATH = '../../dataset/test'\n",
        "images = []\n",
        "labels = []\n",
        "\n",
        "for filename in os.listdir(PATH):\n",
        "  if filename.lower().endswith('.jpeg'):\n",
        "    labels.append(filename[:-5])\n",
        "  else:\n",
        "    labels.append(filename[:-4])\n",
        "\n",
        "  images.append(os.path.join(PATH, filename))"
      ]
    },
    {
      "cell_type": "code",
      "execution_count": null,
      "metadata": {
        "id": "dwE2jNlQXrgh"
      },
      "outputs": [],
      "source": [
        "cer = evaluate.load('cer')\n",
        "wer = evaluate.load('wer')\n",
        "MODEL_PATH = '/content/drive/MyDrive/Projects/CompVis/FinalProject/OCR/HOG/hog_lreg_model_3.pkl'\n",
        "clf = joblib.load(MODEL_PATH)"
      ]
    },
    {
      "cell_type": "code",
      "execution_count": null,
      "metadata": {
        "id": "HeiB1-hUZZ6n"
      },
      "outputs": [],
      "source": [
        "def ocr(PATH):\n",
        "    im = cv2.imread(PATH)\n",
        "    im_gray = cv2.cvtColor(im, cv2.COLOR_BGR2GRAY)\n",
        "    ret, im_th = cv2.threshold(im_gray, 120, 255, cv2.THRESH_BINARY+cv2.THRESH_OTSU)\n",
        "    ctrs, hier = cv2.findContours(im_th, cv2.RETR_TREE, cv2.CHAIN_APPROX_SIMPLE)\n",
        "    bboxes = [cv2.boundingRect(c) for c in ctrs]\n",
        "    sorted_bboxes = sorted(bboxes, key=lambda b: b) # Sort by x-coordinate\n",
        "\n",
        "    plate_char = []\n",
        "    image_height, image_width = im.shape[:2]\n",
        "    height_threshold = image_height * 0.3\n",
        "    width_threshold = image_width * 0.3\n",
        "\n",
        "    for num, i_bboxes in enumerate(sorted_bboxes):\n",
        "        [x, y, w, h] = i_bboxes\n",
        "        if h > height_threshold and w < width_threshold:\n",
        "            cv2.rectangle(im, (x, y), (x + w, y + h), (0, 255, 0), 1)\n",
        "            roi = im_gray[y:y + h, x:x + w]\n",
        "            roi = cv2.resize(roi, (64, 128), interpolation=cv2.INTER_AREA)\n",
        "            roi_hog_fd = hog(roi, orientations=9, pixels_per_cell=(8, 8), cells_per_block=(1, 1))\n",
        "            nbr = clf.predict(np.array([roi_hog_fd]))\n",
        "            cv2.putText(im, str(nbr[0]), (x, y + h), cv2.FONT_HERSHEY_SIMPLEX, 2, (0, 200, 250), 3)\n",
        "            plate_char.append(str(nbr[0]))\n",
        "\n",
        "    return ''.join(plate_char)"
      ]
    },
    {
      "cell_type": "code",
      "execution_count": null,
      "metadata": {
        "id": "denfMQICav9M"
      },
      "outputs": [],
      "source": [
        "pred = []\n",
        "for i in range(len(images)):\n",
        "  pred.append(ocr(images[i]))"
      ]
    },
    {
      "cell_type": "code",
      "execution_count": null,
      "metadata": {
        "colab": {
          "base_uri": "https://localhost:8080/"
        },
        "id": "XGswfposbYvT",
        "outputId": "c83f5e3b-6814-4882-c88f-4ff2110da83e"
      },
      "outputs": [
        {
          "name": "stdout",
          "output_type": "stream",
          "text": [
            "wer: 0.9, cer: 0.28169014084507044\n"
          ]
        }
      ],
      "source": [
        "word_accuracy = wer.compute(references=labels, predictions=pred)\n",
        "character_accuracy = cer.compute(references=labels, predictions=pred)\n",
        "\n",
        "print(f'wer: {word_accuracy}, cer: {character_accuracy}')"
      ]
    },
    {
      "cell_type": "code",
      "execution_count": null,
      "metadata": {
        "colab": {
          "base_uri": "https://localhost:8080/"
        },
        "id": "z9FHK82Wdlm-",
        "outputId": "ccf5430d-f8fe-4bf4-ee62-cec5954782cb"
      },
      "outputs": [
        {
          "name": "stdout",
          "output_type": "stream",
          "text": [
            "0 ('E5944TK', 'E5944TK')\n",
            "1 ('4594', 'E4594Q')\n",
            "2 ('B97363FK', 'B9736JFK')\n",
            "3 ('H624AC', 'H6240AKC')\n",
            "4 ('E3TO5OO', 'E5105OD')\n",
            "5 ('E453GOK', 'E4538QK')\n",
            "6 ('H314ONB', 'H3141NB')\n",
            "7 ('E2TT8ST', 'E2118ST')\n",
            "8 ('DB888TNRZ', 'B8837NR')\n",
            "9 ('E5O53RC', 'E5053RG')\n"
          ]
        }
      ],
      "source": [
        "for i,x in enumerate(zip(pred, labels)):\n",
        "  print(i,x)"
      ]
    }
  ],
  "metadata": {
    "colab": {
      "provenance": []
    },
    "kernelspec": {
      "display_name": "ALPR",
      "language": "python",
      "name": "python3"
    },
    "language_info": {
      "name": "python",
      "version": "3.8.20"
    }
  },
  "nbformat": 4,
  "nbformat_minor": 0
}
